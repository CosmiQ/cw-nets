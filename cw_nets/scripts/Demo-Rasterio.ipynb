{
 "cells": [
  {
   "cell_type": "markdown",
   "metadata": {},
   "source": [
    "# Implementation of TeranausV2 Solution from DeepGlobe Building Extraction Competition\n",
    "# This demo will work with any GeoTiff (S3 based Cloud Optimized GeoTiffs)\n"
   ]
  },
  {
   "cell_type": "code",
   "execution_count": null,
   "metadata": {},
   "outputs": [],
   "source": [
    "%load_ext autoreload\n",
    "%autoreload 2\n",
    "\n",
    "from cw_tiler import main\n",
    "from cw_tiler import utils\n",
    "from cw_tiler import vector_utils\n",
    "from cw_nets.Ternaus_tools import tn_tools \n",
    "from cw_nets.tools import util as base_tools"
   ]
  },
  {
   "cell_type": "code",
   "execution_count": null,
   "metadata": {},
   "outputs": [],
   "source": [
    "\n",
    "# Each grid cell will be 200 on a side\n",
    "cell_size_meters   = 200\n",
    "\n",
    "# Each grid starting point will be spaced 150m apart\n",
    "stride_size_meters = 190\n",
    "\n",
    "# Specify the number of pixels in a tile cell_size_meters/tile_size_pixels == Pixel_Size_Meters\n",
    "tile_size_pixels   = 650\n",
    "# Calculate Anchor Points List\n",
    "# Generate list of cells to read from utm_bounds \n",
    "## Process SpaceNet based Cloud Optimized GeoTiff\n",
    "rasterPath = \"s3://spacenet-dataset/AOI_2_Vegas/srcData/rasterData/AOI_2_Vegas_MUL-PanSharpen_Cloud.tif\"\n",
    "dataLocation = \"/home/dlindenbaum/\"\n",
    "outputName = \"AOI_2_Vegas_buildings_v7.tif\"\n",
    "\n",
    "smallExample=True # If true, only perform analysis on center 1km of area\n",
    "## Load Pytorch Model\n",
    "\n",
    "# The model is obtained from https://github.com/ternaus/TernausNetV2\n",
    "modelPath = '/home/dlindenbaum/cosmiqGit/TernausNetV2/weights/deepglobe_buildings.pt'"
   ]
  },
  {
   "cell_type": "code",
   "execution_count": null,
   "metadata": {},
   "outputs": [],
   "source": [
    "rasterBounds, dst_profile = base_tools.get_processing_details(rasterPath, smallExample=True)\n",
    "\n"
   ]
  },
  {
   "cell_type": "code",
   "execution_count": null,
   "metadata": {},
   "outputs": [],
   "source": [
    "cells_list_dict = base_tools.generate_cells_list_dict(rasterBounds, cell_size_meters, stride_size_meters, tile_size_pixels)"
   ]
  },
  {
   "cell_type": "code",
   "execution_count": null,
   "metadata": {},
   "outputs": [],
   "source": [
    "mask_dict_list = base_tools.createRasterMask(rasterPath, cells_list_dict, dataLocation, outputName, dst_profile, modelPath, tile_size_pixels)\n"
   ]
  },
  {
   "cell_type": "markdown",
   "metadata": {},
   "source": [
    " Next we calculate information about the target Raster:\n",
    "\n",
    "    * The raster bounds in wgs84 (lat, long)\n",
    "    * The raster bounds in UTM Coordinates (x, y meters)\n",
    "    * A VRT profile which represents the image translated to UTM Coordinates (UTM Coordinates is an area square projection\n",
    "    \n",
    "    "
   ]
  },
  {
   "cell_type": "code",
   "execution_count": null,
   "metadata": {},
   "outputs": [],
   "source": [
    "import os\n",
    "resultDict = base_tools.process_results_mask(mask_dict_list, \n",
    "                                            os.path.join(dataLocation, outputName), \n",
    "                                           )\n"
   ]
  },
  {
   "cell_type": "markdown",
   "metadata": {},
   "source": [
    "Determine specific characteristics for Analysis grid.  \n",
    "This model was trained with the expectation of receiving\n",
    "* 650 x 650 pixel images\n",
    "* representing ~200m x 200m in area\n",
    "* 8 Bands representing Coastal, Blue, Green, Yellow, Red, Red Edge, NIR1, NIR2\n",
    "\n",
    "We need to slide a window of ~200m in size accross the target Tiff and then recombine the results\n",
    "\n",
    "* cell_size_meters:  The size of the analysis square (200m in this case)\n",
    "* stride_size_meters: How far apart each grid anchor point should be.  If ~50m overlap is desired, than we would specify ~150m in this case\n",
    "* tile_size_pixels: Target size of returned window (650 x 650 pixels)\n",
    "\n"
   ]
  },
  {
   "cell_type": "code",
   "execution_count": null,
   "metadata": {},
   "outputs": [],
   "source": [
    "results, src_profile = base_tools.polygonize_results_mask(resultDict)\n",
    "\n",
    "base_tools.write_results_tojson(results, \n",
    "                                os.path.join(dataLocation, outputName.relace('.tif', '.geojson')))\n",
    "             \n",
    "        \n",
    "        \n",
    "    \n",
    "    \n",
    "    \n",
    "     \n",
    "    \n",
    "            \n",
    "\n",
    "\n",
    "                \n",
    "                "
   ]
  },
  {
   "cell_type": "code",
   "execution_count": null,
   "metadata": {},
   "outputs": [],
   "source": []
  },
  {
   "cell_type": "code",
   "execution_count": null,
   "metadata": {},
   "outputs": [],
   "source": [
    "\n",
    "\n",
    "    "
   ]
  },
  {
   "cell_type": "code",
   "execution_count": null,
   "metadata": {},
   "outputs": [],
   "source": [
    "\n",
    "\n",
    "                \n",
    "  "
   ]
  },
  {
   "cell_type": "code",
   "execution_count": null,
   "metadata": {},
   "outputs": [],
   "source": []
  },
  {
   "cell_type": "code",
   "execution_count": null,
   "metadata": {},
   "outputs": [],
   "source": [
    "%%time\n",
    "results = []\n",
    "#mask= data_mask==0\n",
    "outputTifMask = os.path.join(dataLocation, outputName.replace('.tif', 'Final_mask.tif'))"
   ]
  },
  {
   "cell_type": "code",
   "execution_count": null,
   "metadata": {},
   "outputs": [],
   "source": [
    "with rasterio.open(outputTifMask) as src:\n",
    "    src_data_final = src.profile\n",
    "    image = src.read(1)\n",
    "    mask= src.dataset_mask()\n",
    "    #for i, (s, v) in tqdm(enumerate(rasterio.features.shapes(image, transform=src_mask_profile['transform']))):\n",
    "    #    results.append({'properties': {'raster_val': v}, 'geometry': s})"
   ]
  },
  {
   "cell_type": "code",
   "execution_count": null,
   "metadata": {},
   "outputs": [],
   "source": [
    "src_data_final\n",
    "#print(image.sum())\n",
    "#print(mask.sum())\n",
    "print(image[image==0].sum())"
   ]
  },
  {
   "cell_type": "code",
   "execution_count": null,
   "metadata": {},
   "outputs": [],
   "source": [
    "%%time\n",
    "results = []\n",
    "#mask= data_mask==0\n",
    "with rasterio.open(outputTifMask) as src:\n",
    "    \n",
    "    image = src.read(1)\n",
    "    mask=src.dataset_mask()\n",
    "    for i, (s, v) in tqdm(enumerate(rasterio.features.shapes(image, mask=mask, transform=src.transform))):\n",
    "        results.append({'properties': {'raster_val': v}, 'geometry': s})"
   ]
  },
  {
   "cell_type": "code",
   "execution_count": null,
   "metadata": {},
   "outputs": [],
   "source": [
    "%%time\n",
    "results = []\n",
    "#mask= data_mask==0\n",
    "with rasterio.open(outputTifMask) as src:\n",
    "    \n",
    "    image = src.read(1)\n",
    "    mask=image>0\n",
    "    for i, (s, v) in tqdm(enumerate(rasterio.features.shapes(image, mask=mask, transform=src.transform))):\n",
    "        results.append({'properties': {'raster_val': v}, 'geometry': s})"
   ]
  },
  {
   "cell_type": "code",
   "execution_count": null,
   "metadata": {},
   "outputs": [],
   "source": [
    "mask_test = image>0"
   ]
  },
  {
   "cell_type": "code",
   "execution_count": null,
   "metadata": {},
   "outputs": [],
   "source": [
    "mask==mask_test"
   ]
  },
  {
   "cell_type": "code",
   "execution_count": null,
   "metadata": {},
   "outputs": [],
   "source": [
    "rasterio.features.dataset_features(src, bidx=None, sampling=1, band=True, as_mask=False, with_nodata=False, geographic=True, precision=-1)"
   ]
  },
  {
   "cell_type": "code",
   "execution_count": null,
   "metadata": {},
   "outputs": [],
   "source": [
    "%%time\n",
    "for cells_list_id, cells_list in cells_list_dict.items():\n",
    "        \n",
    "        outputTifMask = os.path.join(dataLocation, outputName.replace('.tif', '{}_mask.tif'.format(cells_list_id)))\n",
    "        outputTifCountour = os.path.join(dataLocation, outputName.replace('.tif', '{}_contour.tif'.format(cells_list_id)))\n",
    "        outputTifCount = os.path.join(dataLocation, outputName.replace('.tif', '{}_count.tif'.format(cells_list_id)))\n",
    "\n",
    "\n",
    "        with rasterio.open(outputTifMask) as src_mask, \\\n",
    "                rasterio.open(outputTifCountour) as src_seed:\n",
    "            src_mask_profile = src_mask.profile\n",
    "            data_mask = np.memmap('mask{}.mymemmap', dtype='uint8', mode='w+', \n",
    "                                     shape=(1, src_mask_profile['height'], src_mask_profile['width'])\n",
    "                                    )\n",
    "            data_mask = src_mask.read()\n",
    "            del data_mask\n",
    "\n",
    "            src_seed_profile = src_seed.profile\n",
    "            data_seed = np.memmap('seed{}.mymemmap'.format(cells_list_id), dtype='uint8', mode='w+', \n",
    "                                     shape=(1, src_seed_profile['height'], src_seed_profile['width'])\n",
    "                                    )\n",
    "            data_seed = src_seed.read()\n",
    "            del data_seed\n",
    "    "
   ]
  },
  {
   "cell_type": "code",
   "execution_count": null,
   "metadata": {},
   "outputs": [],
   "source": [
    "%%time\n",
    "outputTifMask = os.path.join(dataLocation, outputName.replace('.tif', '_mask.tif'))\n",
    "outputTifCountour = os.path.join(dataLocation, outputName.replace('.tif', '_contour.tif'))\n",
    "outputTifCount = os.path.join(dataLocation, outputName.replace('.tif', '_count.tif'))\n",
    "import cv2\n",
    "\n",
    "\n",
    "with rasterio.open(outputTifMask) as src_mask, \\\n",
    "        rasterio.open(outputTifCountour) as src_seed:\n",
    "    src_mask_profile = src_mask.profile\n",
    "    src_seed_profile = src_seed.profile\n",
    "\n",
    "print(\"data_mask\")\n",
    "data_mask = np.memmap('mask.mymemmap', dtype='uint8', mode='r', \n",
    "                             shape=(1, src_mask_profile['height'], src_mask_profile['width'])\n",
    "                            )    \n",
    "\n",
    "print(\"data_seed\")\n",
    "data_seed = np.memmap('seed.mymemmap', dtype='uint8', mode='r', \n",
    "                             shape=(1, src_seed_profile['height'], src_seed_profile['width'])\n",
    "                            )\n",
    "\n",
    "    \n",
    "print(\"start\")\n",
    "ret, markers = cv2.connectedComponents(np.squeeze(data_seed))\n",
    "print(\"watershed\")\n",
    "markers = cv2.watershed(np.asarray([data_mask, data_mask, data_mask]).astype(np.uint8),markers)\n",
    "\n",
    "print(np.min(markers))    \n",
    "\n",
    "    "
   ]
  },
  {
   "cell_type": "code",
   "execution_count": null,
   "metadata": {},
   "outputs": [],
   "source": []
  },
  {
   "cell_type": "code",
   "execution_count": null,
   "metadata": {},
   "outputs": [],
   "source": []
  },
  {
   "cell_type": "code",
   "execution_count": null,
   "metadata": {},
   "outputs": [],
   "source": []
  },
  {
   "cell_type": "code",
   "execution_count": null,
   "metadata": {},
   "outputs": [],
   "source": []
  },
  {
   "cell_type": "code",
   "execution_count": null,
   "metadata": {},
   "outputs": [],
   "source": []
  },
  {
   "cell_type": "code",
   "execution_count": null,
   "metadata": {},
   "outputs": [],
   "source": []
  },
  {
   "cell_type": "code",
   "execution_count": null,
   "metadata": {},
   "outputs": [],
   "source": []
  }
 ],
 "metadata": {
  "kernelspec": {
   "display_name": "Python [conda env:Teranaus]",
   "language": "python",
   "name": "conda-env-Teranaus-py"
  },
  "language_info": {
   "codemirror_mode": {
    "name": "ipython",
    "version": 3
   },
   "file_extension": ".py",
   "mimetype": "text/x-python",
   "name": "python",
   "nbconvert_exporter": "python",
   "pygments_lexer": "ipython3",
   "version": "3.6.5"
  }
 },
 "nbformat": 4,
 "nbformat_minor": 2
}
